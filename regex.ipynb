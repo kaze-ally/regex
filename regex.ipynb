{
 "cells": [
  {
   "cell_type": "code",
   "execution_count": 12,
   "id": "6b98243c",
   "metadata": {},
   "outputs": [],
   "source": [
    "import re"
   ]
  },
  {
   "cell_type": "code",
   "execution_count": 13,
   "id": "9d0122d2",
   "metadata": {},
   "outputs": [
    {
     "data": {
      "text/plain": [
       "(['7321119999'],\n",
       " ['alice.smith@example.com'],\n",
       " ['1990-05-15'],\n",
       " ['120'],\n",
       " ['INS-123456'])"
      ]
     },
     "execution_count": 13,
     "metadata": {},
     "output_type": "execute_result"
    }
   ],
   "source": [
    "text = (\n",
    "    \"Alice Smith recently visited our clinic. Her phone number is 7321119999, \"\n",
    "    \"and you can reach her at alice.smith@example.com for any follow-up information. \"\n",
    "    \"She was born on 1990-05-15.\"\n",
    "    \"Her insurance ID is INS-123456. The bill amount for her recent appointment is 120$.\"\n",
    ")\n",
    "pattern_phone = r\"\\d{10}\"\n",
    "pattern_email = r\"[a-zA-Z0-9._%+-]+@[a-zA-Z0-9.-]+\\.[a-zA-Z]{2,}\"\n",
    "pattern_birthdate = r\"\\d{4}-\\d{2}-\\d{2}\"\n",
    "pattern_bill_amt = r\"(\\d+)\\$\"\n",
    "pattern_insurance_id = r\"INS-\\d+\"\n",
    "\n",
    "phone_numbers = re.findall(pattern_phone, text)\n",
    "emails = re.findall(pattern_email, text)\n",
    "birthdates = re.findall(pattern_birthdate, text)\n",
    "bill_amounts = re.findall(pattern_bill_amt, text)\n",
    "insurance_ids = re.findall(pattern_insurance_id, text)\n",
    "\n",
    "phone_numbers, emails, birthdates, bill_amounts, insurance_ids\n"
   ]
  },
  {
   "cell_type": "code",
   "execution_count": 14,
   "id": "b78f17b3",
   "metadata": {},
   "outputs": [],
   "source": [
    "import pandas as pd\n",
    "\n",
    "data = {\n",
    "    'Phone Number': phone_numbers,\n",
    "    'Email': emails,\n",
    "    'Birthdate': birthdates,\n",
    "    'Insurance ID': insurance_ids,\n",
    "    'Bill Amount': bill_amounts\n",
    "}\n",
    "\n",
    "df = pd.DataFrame(data)\n",
    "df.to_excel('patient_info.xlsx', index=False)"
   ]
  },
  {
   "cell_type": "code",
   "execution_count": 10,
   "id": "c976b8d0",
   "metadata": {},
   "outputs": [
    {
     "data": {
      "text/html": [
       "<div>\n",
       "<style scoped>\n",
       "    .dataframe tbody tr th:only-of-type {\n",
       "        vertical-align: middle;\n",
       "    }\n",
       "\n",
       "    .dataframe tbody tr th {\n",
       "        vertical-align: top;\n",
       "    }\n",
       "\n",
       "    .dataframe thead th {\n",
       "        text-align: right;\n",
       "    }\n",
       "</style>\n",
       "<table border=\"1\" class=\"dataframe\">\n",
       "  <thead>\n",
       "    <tr style=\"text-align: right;\">\n",
       "      <th></th>\n",
       "      <th>Phone Number</th>\n",
       "      <th>Email</th>\n",
       "      <th>Birthdate</th>\n",
       "      <th>Insurance ID</th>\n",
       "      <th>Bill Amount</th>\n",
       "    </tr>\n",
       "  </thead>\n",
       "  <tbody>\n",
       "    <tr>\n",
       "      <th>0</th>\n",
       "      <td>7321119999</td>\n",
       "      <td>alice.smith@example.com</td>\n",
       "      <td>1990-05-15</td>\n",
       "      <td>INS-123456</td>\n",
       "      <td>120</td>\n",
       "    </tr>\n",
       "    <tr>\n",
       "      <th>1</th>\n",
       "      <td>6462228888</td>\n",
       "      <td>bob.johnson@example.com</td>\n",
       "      <td>1985-11-23</td>\n",
       "      <td>INS-654321</td>\n",
       "      <td>200</td>\n",
       "    </tr>\n",
       "    <tr>\n",
       "      <th>2</th>\n",
       "      <td>9173337777</td>\n",
       "      <td>carol.lee@example.com</td>\n",
       "      <td>1978-03-09</td>\n",
       "      <td>INS-789012</td>\n",
       "      <td>150</td>\n",
       "    </tr>\n",
       "  </tbody>\n",
       "</table>\n",
       "</div>"
      ],
      "text/plain": [
       "  Phone Number                    Email   Birthdate Insurance ID Bill Amount\n",
       "0   7321119999  alice.smith@example.com  1990-05-15   INS-123456         120\n",
       "1   6462228888  bob.johnson@example.com  1985-11-23   INS-654321         200\n",
       "2   9173337777    carol.lee@example.com  1978-03-09   INS-789012         150"
      ]
     },
     "execution_count": 10,
     "metadata": {},
     "output_type": "execute_result"
    }
   ],
   "source": [
    "# Create additional paragraphs with relevant information\n",
    "text2 = (\n",
    "    \"Bob Johnson's insurance ID is INS-654321. He was born on 1985-11-23. \"\n",
    "    \"You can contact him at bob.johnson@example.com or call 6462228888. \"\n",
    "    \"The bill amount for his last visit is 200$.\"\n",
    ")\n",
    "\n",
    "text3 = (\n",
    "    \"Carol Lee can be reached at carol.lee@example.com. \"\n",
    "    \"Her phone number is 9173337777. \"\n",
    "    \"She was born on 1978-03-09 and her insurance ID is INS-789012. \"\n",
    "    \"The bill for her appointment is 150$.\"\n",
    ")\n",
    "\n",
    "# Extract information using the same patterns\n",
    "def extract_info(text):\n",
    "    return {\n",
    "        'Phone Number': re.findall(pattern_phone, text),\n",
    "        'Email': re.findall(pattern_email, text),\n",
    "        'Birthdate': re.findall(pattern_birthdate, text),\n",
    "        'Insurance ID': re.findall(pattern_insurance_id, text),\n",
    "        'Bill Amount': re.findall(pattern_bill_amt, text)\n",
    "    }\n",
    "\n",
    "info2 = extract_info(text2)\n",
    "info3 = extract_info(text3)\n",
    "\n",
    "# Prepare data for new rows\n",
    "new_rows = [\n",
    "    {\n",
    "        'Phone Number': info2['Phone Number'][0],\n",
    "        'Email': info2['Email'][0],\n",
    "        'Birthdate': info2['Birthdate'][0],\n",
    "        'Insurance ID': info2['Insurance ID'][0],\n",
    "        'Bill Amount': info2['Bill Amount'][0]\n",
    "    },\n",
    "    {\n",
    "        'Phone Number': info3['Phone Number'][0],\n",
    "        'Email': info3['Email'][0],\n",
    "        'Birthdate': info3['Birthdate'][0],\n",
    "        'Insurance ID': info3['Insurance ID'][0],\n",
    "        'Bill Amount': info3['Bill Amount'][0]\n",
    "    }\n",
    "]\n",
    "\n",
    "# Append new rows to the dataframe and save to Excel\n",
    "df = pd.concat([df, pd.DataFrame(new_rows)], ignore_index=True)\n",
    "df.to_excel('patient_info.xlsx', index=False)\n",
    "df"
   ]
  }
 ],
 "metadata": {
  "kernelspec": {
   "display_name": "myenv",
   "language": "python",
   "name": "python3"
  },
  "language_info": {
   "codemirror_mode": {
    "name": "ipython",
    "version": 3
   },
   "file_extension": ".py",
   "mimetype": "text/x-python",
   "name": "python",
   "nbconvert_exporter": "python",
   "pygments_lexer": "ipython3",
   "version": "3.12.5"
  }
 },
 "nbformat": 4,
 "nbformat_minor": 5
}
